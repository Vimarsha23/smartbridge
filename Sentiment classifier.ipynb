{
 "cells": [
  {
   "cell_type": "markdown",
   "metadata": {},
   "source": [
    "# SENTIMENT CLASSIFIER"
   ]
  },
  {
   "cell_type": "code",
   "execution_count": 13,
   "metadata": {},
   "outputs": [
    {
     "name": "stderr",
     "output_type": "stream",
     "text": [
      "[nltk_data] Downloading package movie_reviews to\n",
      "[nltk_data]     /home/vimarsha/nltk_data...\n",
      "[nltk_data]   Package movie_reviews is already up-to-date!\n"
     ]
    },
    {
     "data": {
      "text/plain": [
       "True"
      ]
     },
     "execution_count": 13,
     "metadata": {},
     "output_type": "execute_result"
    }
   ],
   "source": [
    "import nltk.classify.util\n",
    "from nltk.classify import NaiveBayesClassifier\n",
    "from nltk.corpus import stopwords\n",
    "from nltk.corpus import movie_reviews\n",
    "from nltk.tokenize import word_tokenize\n",
    "nltk.download('movie_reviews')"
   ]
  },
  {
   "cell_type": "code",
   "execution_count": 14,
   "metadata": {},
   "outputs": [],
   "source": [
    "def format_sentence(words):\n",
    "    stop_words = [stopwords.words(\"english\")]\n",
    "    useful_words=[]\n",
    "    for word in words:\n",
    "        if word not in stop_words:\n",
    "            useful_words.append(word)\n",
    "    my_dict = dict([(word, True) for word in useful_words])\n",
    "    return my_dict"
   ]
  },
  {
   "cell_type": "code",
   "execution_count": 17,
   "metadata": {},
   "outputs": [
    {
     "name": "stdout",
     "output_type": "stream",
     "text": [
      "{'a': True, ' ': True, 'c': True, 'e': True, 'm': True, 'o': True, 's': True, 'r': True, 't': True, 'w': True}\n"
     ]
    }
   ],
   "source": [
    "print(format_sentence(\"cats are awesome\"))"
   ]
  },
  {
   "cell_type": "code",
   "execution_count": 18,
   "metadata": {},
   "outputs": [],
   "source": [
    "neg = []\n",
    "for i in movie_reviews.fileids('neg'):\n",
    "    words = movie_reviews.words(i)\n",
    "    neg.append((format_sentence(words), \"negative\"))"
   ]
  },
  {
   "cell_type": "code",
   "execution_count": 19,
   "metadata": {},
   "outputs": [],
   "source": [
    "pos = []\n",
    "for i in movie_reviews.fileids('pos'):\n",
    "    words = movie_reviews.words(i)\n",
    "    pos.append((format_sentence(words), \"positive\"))"
   ]
  },
  {
   "cell_type": "code",
   "execution_count": 20,
   "metadata": {},
   "outputs": [],
   "source": [
    "training=pos[:int((.8)*len(pos))]+neg[:int((.8)*len(neg))]\n",
    "test=pos[int((.8)*len(pos)):]+neg[int((.8)*len(neg)):]"
   ]
  },
  {
   "cell_type": "code",
   "execution_count": 21,
   "metadata": {},
   "outputs": [
    {
     "name": "stdout",
     "output_type": "stream",
     "text": [
      "(1600, 400)\n"
     ]
    }
   ],
   "source": [
    "print(len(training),len(test))"
   ]
  },
  {
   "cell_type": "markdown",
   "metadata": {},
   "source": [
    "# # RESULT"
   ]
  },
  {
   "cell_type": "code",
   "execution_count": 22,
   "metadata": {},
   "outputs": [
    {
     "name": "stdout",
     "output_type": "stream",
     "text": [
      "0.735\n"
     ]
    }
   ],
   "source": [
    "classifier = NaiveBayesClassifier.train(training)\n",
    "from nltk.classify.util import accuracy\n",
    "print(accuracy(classifier,test))"
   ]
  },
  {
   "cell_type": "code",
   "execution_count": 23,
   "metadata": {},
   "outputs": [
    {
     "name": "stdout",
     "output_type": "stream",
     "text": [
      "negative\n"
     ]
    }
   ],
   "source": [
    "ex1=\"cats are bad\"\n",
    "print(classifier.classify(format_sentence(ex1)))"
   ]
  },
  {
   "cell_type": "code",
   "execution_count": 24,
   "metadata": {},
   "outputs": [
    {
     "name": "stdout",
     "output_type": "stream",
     "text": [
      "positive\n"
     ]
    }
   ],
   "source": [
    "ex2=\"i love rain\"\n",
    "print(classifier.classify(format_sentence(ex2)))"
   ]
  },
  {
   "cell_type": "code",
   "execution_count": 25,
   "metadata": {},
   "outputs": [
    {
     "name": "stdout",
     "output_type": "stream",
     "text": [
      "positive\n"
     ]
    }
   ],
   "source": [
    "ex3=\"i am smiling\"\n",
    "print(classifier.classify(format_sentence(ex3)))"
   ]
  },
  {
   "cell_type": "code",
   "execution_count": 26,
   "metadata": {},
   "outputs": [
    {
     "name": "stdout",
     "output_type": "stream",
     "text": [
      "negative\n"
     ]
    }
   ],
   "source": [
    "ex4=\"i am not a good girl\"\n",
    "print(classifier.classify(format_sentence(ex4)))"
   ]
  },
  {
   "cell_type": "code",
   "execution_count": 27,
   "metadata": {},
   "outputs": [
    {
     "name": "stdout",
     "output_type": "stream",
     "text": [
      "negative\n"
     ]
    }
   ],
   "source": [
    "ex5=\"i don't like cockroaches\"\n",
    "print(classifier.classify(format_sentence(ex5)))"
   ]
  },
  {
   "cell_type": "code",
   "execution_count": 28,
   "metadata": {},
   "outputs": [
    {
     "name": "stdout",
     "output_type": "stream",
     "text": [
      "negative\n"
     ]
    }
   ],
   "source": [
    "ex6=\"i am dancing\"\n",
    "print(classifier.classify(format_sentence(ex6)))"
   ]
  },
  {
   "cell_type": "raw",
   "metadata": {},
   "source": [
    "cannot really say with what kind of emotion the person is dancing"
   ]
  },
  {
   "cell_type": "code",
   "execution_count": 30,
   "metadata": {},
   "outputs": [
    {
     "name": "stdout",
     "output_type": "stream",
     "text": [
      "negative\n"
     ]
    }
   ],
   "source": [
    "ex7=\"cat is walking\"\n",
    "print(classifier.classify(format_sentence(ex7)))"
   ]
  },
  {
   "cell_type": "raw",
   "metadata": {},
   "source": [
    "cannot classify this as a negative or positive statement"
   ]
  },
  {
   "cell_type": "code",
   "execution_count": 31,
   "metadata": {},
   "outputs": [
    {
     "name": "stdout",
     "output_type": "stream",
     "text": [
      "negative\n"
     ]
    }
   ],
   "source": [
    "ex8=\"i am not sad\"\n",
    "print(classifier.classify(format_sentence(ex8)))"
   ]
  },
  {
   "cell_type": "raw",
   "metadata": {},
   "source": [
    "not an accurate answer\n",
    "two negative words are coming together to make a positive statement \n",
    "infact it does not even make a postive statement \n",
    "I am not sad does not mean I am happy \n",
    "hence it cannot be considered as a postive statement "
   ]
  },
  {
   "cell_type": "code",
   "execution_count": 33,
   "metadata": {},
   "outputs": [
    {
     "name": "stdout",
     "output_type": "stream",
     "text": [
      "positive\n"
     ]
    }
   ],
   "source": [
    "ex9=\"What a nice day!\"\n",
    "print(classifier.classify(format_sentence(ex9)))"
   ]
  },
  {
   "cell_type": "code",
   "execution_count": 34,
   "metadata": {},
   "outputs": [
    {
     "name": "stdout",
     "output_type": "stream",
     "text": [
      "negative\n"
     ]
    }
   ],
   "source": [
    "ex10=\"How was your day?\"\n",
    "print(classifier.classify(format_sentence(ex10)))"
   ]
  },
  {
   "cell_type": "raw",
   "metadata": {},
   "source": [
    "it is a question and hence cannot be classified as a postive or negative statement"
   ]
  },
  {
   "cell_type": "code",
   "execution_count": 35,
   "metadata": {},
   "outputs": [
    {
     "name": "stdout",
     "output_type": "stream",
     "text": [
      "positive\n"
     ]
    }
   ],
   "source": [
    "ex11=\"i am going to hospital\"\n",
    "print(classifier.classify(format_sentence(ex11)))"
   ]
  },
  {
   "cell_type": "code",
   "execution_count": 37,
   "metadata": {},
   "outputs": [
    {
     "name": "stdout",
     "output_type": "stream",
     "text": [
      "positive\n"
     ]
    }
   ],
   "source": [
    "ex12=\"i am going to a party\"\n",
    "print(classifier.classify(format_sentence(ex12)))"
   ]
  },
  {
   "cell_type": "raw",
   "metadata": {},
   "source": [
    "here 'going' is considered but hospital and party is not making any difference"
   ]
  },
  {
   "cell_type": "code",
   "execution_count": 38,
   "metadata": {},
   "outputs": [
    {
     "name": "stdout",
     "output_type": "stream",
     "text": [
      "negative\n"
     ]
    }
   ],
   "source": [
    "ex13=\"my favourite toy broke\"\n",
    "print(classifier.classify(format_sentence(ex13)))"
   ]
  },
  {
   "cell_type": "code",
   "execution_count": 48,
   "metadata": {},
   "outputs": [
    {
     "name": "stdout",
     "output_type": "stream",
     "text": [
      "positive\n"
     ]
    }
   ],
   "source": [
    "ex14=\"i won the competition\"\n",
    "print(classifier.classify(format_sentence(ex14)))"
   ]
  },
  {
   "cell_type": "code",
   "execution_count": 49,
   "metadata": {},
   "outputs": [
    {
     "name": "stdout",
     "output_type": "stream",
     "text": [
      "positive\n"
     ]
    }
   ],
   "source": [
    "ex14=\"i completed my assignment\"\n",
    "print(classifier.classify(format_sentence(ex14)))"
   ]
  },
  {
   "cell_type": "raw",
   "metadata": {},
   "source": [
    "Most the answers were correct except for those with ambiguous statements which could not be exactly classified as postive or negative "
   ]
  }
 ],
 "metadata": {
  "kernelspec": {
   "display_name": "Python 2",
   "language": "python",
   "name": "python2"
  },
  "language_info": {
   "codemirror_mode": {
    "name": "ipython",
    "version": 2
   },
   "file_extension": ".py",
   "mimetype": "text/x-python",
   "name": "python",
   "nbconvert_exporter": "python",
   "pygments_lexer": "ipython2",
   "version": "2.7.15+"
  }
 },
 "nbformat": 4,
 "nbformat_minor": 2
}
